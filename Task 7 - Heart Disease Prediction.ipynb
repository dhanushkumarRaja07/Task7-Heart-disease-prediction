{
 "cells": [
  {
   "cell_type": "markdown",
   "id": "051b99ec",
   "metadata": {},
   "source": [
    "# DHANUSHKUMAR R\n",
    "A Project for an internship at \"TECHNOHACKS EDUTECH\"\n",
    "\n",
    "Task 7 : Heart Disease Prediction\n",
    "\n",
    "Dataset : heart.csv"
   ]
  },
  {
   "cell_type": "markdown",
   "id": "e6d2c338",
   "metadata": {},
   "source": [
    "# Importing libraries"
   ]
  },
  {
   "cell_type": "code",
   "execution_count": 3,
   "id": "f92ff845",
   "metadata": {},
   "outputs": [],
   "source": [
    "import numpy as np\n",
    "import pandas as pd\n",
    "import matplotlib.pyplot as plt\n",
    "import seaborn as sns\n",
    "\n",
    "%matplotlib inline\n",
    "\n",
    "import warnings\n",
    "warnings.filterwarnings('ignore')"
   ]
  },
  {
   "cell_type": "markdown",
   "id": "101df04a",
   "metadata": {},
   "source": [
    "# Importing dataset"
   ]
  },
  {
   "cell_type": "code",
   "execution_count": 4,
   "id": "7ba7bf5b",
   "metadata": {},
   "outputs": [
    {
     "data": {
      "text/html": [
       "<div>\n",
       "<style scoped>\n",
       "    .dataframe tbody tr th:only-of-type {\n",
       "        vertical-align: middle;\n",
       "    }\n",
       "\n",
       "    .dataframe tbody tr th {\n",
       "        vertical-align: top;\n",
       "    }\n",
       "\n",
       "    .dataframe thead th {\n",
       "        text-align: right;\n",
       "    }\n",
       "</style>\n",
       "<table border=\"1\" class=\"dataframe\">\n",
       "  <thead>\n",
       "    <tr style=\"text-align: right;\">\n",
       "      <th></th>\n",
       "      <th>age</th>\n",
       "      <th>sex</th>\n",
       "      <th>cp</th>\n",
       "      <th>trestbps</th>\n",
       "      <th>chol</th>\n",
       "      <th>fbs</th>\n",
       "      <th>restecg</th>\n",
       "      <th>thalach</th>\n",
       "      <th>exang</th>\n",
       "      <th>oldpeak</th>\n",
       "      <th>slope</th>\n",
       "      <th>ca</th>\n",
       "      <th>thal</th>\n",
       "      <th>target</th>\n",
       "    </tr>\n",
       "  </thead>\n",
       "  <tbody>\n",
       "    <tr>\n",
       "      <th>0</th>\n",
       "      <td>63</td>\n",
       "      <td>1</td>\n",
       "      <td>3</td>\n",
       "      <td>145</td>\n",
       "      <td>233</td>\n",
       "      <td>1</td>\n",
       "      <td>0</td>\n",
       "      <td>150</td>\n",
       "      <td>0</td>\n",
       "      <td>2.3</td>\n",
       "      <td>0</td>\n",
       "      <td>0</td>\n",
       "      <td>1</td>\n",
       "      <td>1</td>\n",
       "    </tr>\n",
       "    <tr>\n",
       "      <th>1</th>\n",
       "      <td>37</td>\n",
       "      <td>1</td>\n",
       "      <td>2</td>\n",
       "      <td>130</td>\n",
       "      <td>250</td>\n",
       "      <td>0</td>\n",
       "      <td>1</td>\n",
       "      <td>187</td>\n",
       "      <td>0</td>\n",
       "      <td>3.5</td>\n",
       "      <td>0</td>\n",
       "      <td>0</td>\n",
       "      <td>2</td>\n",
       "      <td>1</td>\n",
       "    </tr>\n",
       "    <tr>\n",
       "      <th>2</th>\n",
       "      <td>41</td>\n",
       "      <td>0</td>\n",
       "      <td>1</td>\n",
       "      <td>130</td>\n",
       "      <td>204</td>\n",
       "      <td>0</td>\n",
       "      <td>0</td>\n",
       "      <td>172</td>\n",
       "      <td>0</td>\n",
       "      <td>1.4</td>\n",
       "      <td>2</td>\n",
       "      <td>0</td>\n",
       "      <td>2</td>\n",
       "      <td>1</td>\n",
       "    </tr>\n",
       "    <tr>\n",
       "      <th>3</th>\n",
       "      <td>56</td>\n",
       "      <td>1</td>\n",
       "      <td>1</td>\n",
       "      <td>120</td>\n",
       "      <td>236</td>\n",
       "      <td>0</td>\n",
       "      <td>1</td>\n",
       "      <td>178</td>\n",
       "      <td>0</td>\n",
       "      <td>0.8</td>\n",
       "      <td>2</td>\n",
       "      <td>0</td>\n",
       "      <td>2</td>\n",
       "      <td>1</td>\n",
       "    </tr>\n",
       "    <tr>\n",
       "      <th>4</th>\n",
       "      <td>57</td>\n",
       "      <td>0</td>\n",
       "      <td>0</td>\n",
       "      <td>120</td>\n",
       "      <td>354</td>\n",
       "      <td>0</td>\n",
       "      <td>1</td>\n",
       "      <td>163</td>\n",
       "      <td>1</td>\n",
       "      <td>0.6</td>\n",
       "      <td>2</td>\n",
       "      <td>0</td>\n",
       "      <td>2</td>\n",
       "      <td>1</td>\n",
       "    </tr>\n",
       "  </tbody>\n",
       "</table>\n",
       "</div>"
      ],
      "text/plain": [
       "   age  sex  cp  trestbps  chol  fbs  restecg  thalach  exang  oldpeak  slope  \\\n",
       "0   63    1   3       145   233    1        0      150      0      2.3      0   \n",
       "1   37    1   2       130   250    0        1      187      0      3.5      0   \n",
       "2   41    0   1       130   204    0        0      172      0      1.4      2   \n",
       "3   56    1   1       120   236    0        1      178      0      0.8      2   \n",
       "4   57    0   0       120   354    0        1      163      1      0.6      2   \n",
       "\n",
       "   ca  thal  target  \n",
       "0   0     1       1  \n",
       "1   0     2       1  \n",
       "2   0     2       1  \n",
       "3   0     2       1  \n",
       "4   0     2       1  "
      ]
     },
     "execution_count": 4,
     "metadata": {},
     "output_type": "execute_result"
    }
   ],
   "source": [
    "dataset = pd.read_csv('C:/Users/User/Downloads/heart.csv')\n",
    "dataset.head()"
   ]
  },
  {
   "cell_type": "markdown",
   "id": "f3e73cbd",
   "metadata": {},
   "source": [
    "# Exploratory data analysis (EDA)"
   ]
  },
  {
   "cell_type": "code",
   "execution_count": 5,
   "id": "6e8f6852",
   "metadata": {},
   "outputs": [
    {
     "name": "stdout",
     "output_type": "stream",
     "text": [
      "1    165\n",
      "0    138\n",
      "Name: target, dtype: int64\n"
     ]
    },
    {
     "data": {
      "image/png": "[encoded data removed]",
      "text/plain": [
       "<Figure size 432x288 with 1 Axes>"
      ]
     },
     "metadata": {
      "needs_background": "light"
     },
     "output_type": "display_data"
    }
   ],
   "source": [
    "y = dataset[\"target\"]\n",
    "\n",
    "sns.countplot(y)\n",
    "\n",
    "\n",
    "target_temp = dataset.target.value_counts()\n",
    "\n",
    "print(target_temp)"
   ]
  },
  {
   "cell_type": "markdown",
   "id": "f664fdee",
   "metadata": {},
   "source": [
    "# Percentage Heart problems"
   ]
  },
  {
   "cell_type": "code",
   "execution_count": 6,
   "id": "dc6d71d4",
   "metadata": {},
   "outputs": [
    {
     "name": "stdout",
     "output_type": "stream",
     "text": [
      "Percentage of patience without heart problems: 45.54\n",
      "Percentage of patience with heart problems: 54.46\n"
     ]
    }
   ],
   "source": [
    "print(\"Percentage of patience without heart problems: \"+str(round(target_temp[0]*100/303,2)))\n",
    "print(\"Percentage of patience with heart problems: \"+str(round(target_temp[1]*100/303,2)))"
   ]
  },
  {
   "cell_type": "markdown",
   "id": "cef62dae",
   "metadata": {},
   "source": [
    "# Analyse  Chest Pain Type"
   ]
  },
  {
   "cell_type": "code",
   "execution_count": 7,
   "id": "d195d6f9",
   "metadata": {},
   "outputs": [
    {
     "data": {
      "text/plain": [
       "<AxesSubplot:xlabel='cp', ylabel='target'>"
      ]
     },
     "execution_count": 7,
     "metadata": {},
     "output_type": "execute_result"
    },
    {
     "data": {
      "image/png": "[encoded data removed]",
      "text/plain": [
       "<Figure size 432x288 with 1 Axes>"
      ]
     },
     "metadata": {
      "needs_background": "light"
     },
     "output_type": "display_data"
    }
   ],
   "source": [
    "dataset[\"cp\"].unique()\n",
    "sns.barplot(x=dataset[\"cp\"],y=y)"
   ]
  },
  {
   "cell_type": "markdown",
   "id": "28bb5b70",
   "metadata": {},
   "source": [
    "# Analysing the FBS feature"
   ]
  },
  {
   "cell_type": "code",
   "execution_count": 8,
   "id": "f9a730f5",
   "metadata": {},
   "outputs": [
    {
     "data": {
      "text/plain": [
       "<AxesSubplot:xlabel='fbs', ylabel='target'>"
      ]
     },
     "execution_count": 8,
     "metadata": {},
     "output_type": "execute_result"
    },
    {
     "data": {
      "image/png": "[encoded data removed]",
      "text/plain": [
       "<Figure size 432x288 with 1 Axes>"
      ]
     },
     "metadata": {
      "needs_background": "light"
     },
     "output_type": "display_data"
    }
   ],
   "source": [
    "dataset[\"fbs\"].describe()\n",
    "dataset[\"fbs\"].unique()\n",
    "sns.barplot(x=dataset[\"fbs\"],y=y)"
   ]
  },
  {
   "cell_type": "code",
   "execution_count": 9,
   "id": "4d026241",
   "metadata": {},
   "outputs": [
    {
     "data": {
      "text/plain": [
       "<AxesSubplot:xlabel='restecg', ylabel='target'>"
      ]
     },
     "execution_count": 9,
     "metadata": {},
     "output_type": "execute_result"
    },
    {
     "data": {
      "image/png": "[encoded data removed]",
      "text/plain": [
       "<Figure size 432x288 with 1 Axes>"
      ]
     },
     "metadata": {
      "needs_background": "light"
     },
     "output_type": "display_data"
    }
   ],
   "source": [
    "dataset[\"restecg\"].unique()\n",
    "sns.barplot(x=dataset[\"restecg\"],y=y)"
   ]
  },
  {
   "cell_type": "markdown",
   "id": "80ffbef4",
   "metadata": {},
   "source": [
    "# Analysing the 'exang' feature"
   ]
  },
  {
   "cell_type": "code",
   "execution_count": 10,
   "id": "b7698b75",
   "metadata": {},
   "outputs": [
    {
     "data": {
      "text/plain": [
       "<AxesSubplot:xlabel='exang', ylabel='target'>"
      ]
     },
     "execution_count": 10,
     "metadata": {},
     "output_type": "execute_result"
    },
    {
     "data": {
      "image/png": "[encoded data removed]",
      "text/plain": [
       "<Figure size 432x288 with 1 Axes>"
      ]
     },
     "metadata": {
      "needs_background": "light"
     },
     "output_type": "display_data"
    }
   ],
   "source": [
    "dataset[\"exang\"].unique()\n",
    "sns.barplot(x=dataset[\"exang\"],y=y)"
   ]
  },
  {
   "cell_type": "markdown",
   "id": "f007382c",
   "metadata": {},
   "source": [
    "# Analysing the Slope feature"
   ]
  },
  {
   "cell_type": "code",
   "execution_count": 11,
   "id": "08446a4e",
   "metadata": {},
   "outputs": [
    {
     "data": {
      "text/plain": [
       "<AxesSubplot:xlabel='slope', ylabel='target'>"
      ]
     },
     "execution_count": 11,
     "metadata": {},
     "output_type": "execute_result"
    },
    {
     "data": {
      "image/png": "[encoded data removed]",
      "text/plain": [
       "<Figure size 432x288 with 1 Axes>"
      ]
     },
     "metadata": {
      "needs_background": "light"
     },
     "output_type": "display_data"
    }
   ],
   "source": [
    "dataset[\"slope\"].unique()\n",
    "sns.barplot(x=dataset[\"slope\"],y=y)\n"
   ]
  },
  {
   "cell_type": "markdown",
   "id": "797ece21",
   "metadata": {},
   "source": [
    "# Analysing the 'ca' feature"
   ]
  },
  {
   "cell_type": "code",
   "execution_count": 12,
   "id": "17682eb4",
   "metadata": {},
   "outputs": [
    {
     "data": {
      "text/plain": [
       "<AxesSubplot:xlabel='ca', ylabel='count'>"
      ]
     },
     "execution_count": 12,
     "metadata": {},
     "output_type": "execute_result"
    },
    {
     "data": {
      "image/png": "[encoded data removed]",
      "text/plain": [
       "<Figure size 432x288 with 1 Axes>"
      ]
     },
     "metadata": {
      "needs_background": "light"
     },
     "output_type": "display_data"
    }
   ],
   "source": [
    "dataset[\"ca\"].unique()\n",
    "sns.countplot(dataset[\"ca\"])"
   ]
  },
  {
   "cell_type": "code",
   "execution_count": 13,
   "id": "83c947e7",
   "metadata": {},
   "outputs": [
    {
     "data": {
      "text/plain": [
       "<AxesSubplot:xlabel='ca', ylabel='target'>"
      ]
     },
     "execution_count": 13,
     "metadata": {},
     "output_type": "execute_result"
    },
    {
     "data": {
      "image/png": "[encoded data removed]",
      "text/plain": [
       "<Figure size 432x288 with 1 Axes>"
      ]
     },
     "metadata": {
      "needs_background": "light"
     },
     "output_type": "display_data"
    }
   ],
   "source": [
    "sns.barplot(x=dataset[\"ca\"],y=y)"
   ]
  },
  {
   "cell_type": "code",
   "execution_count": 14,
   "id": "0b5e5741",
   "metadata": {},
   "outputs": [
    {
     "data": {
      "text/plain": [
       "array([1, 2, 3, 0], dtype=int64)"
      ]
     },
     "execution_count": 14,
     "metadata": {},
     "output_type": "execute_result"
    }
   ],
   "source": [
    "dataset[\"thal\"].unique()"
   ]
  },
  {
   "cell_type": "code",
   "execution_count": 15,
   "id": "54782dd1",
   "metadata": {},
   "outputs": [
    {
     "data": {
      "text/plain": [
       "<AxesSubplot:xlabel='thal', ylabel='target'>"
      ]
     },
     "execution_count": 15,
     "metadata": {},
     "output_type": "execute_result"
    },
    {
     "data": {
      "image/png": "[encoded data removed]",
      "text/plain": [
       "<Figure size 432x288 with 1 Axes>"
      ]
     },
     "metadata": {
      "needs_background": "light"
     },
     "output_type": "display_data"
    }
   ],
   "source": [
    "sns.barplot(x=dataset[\"thal\"],y=y)"
   ]
  },
  {
   "cell_type": "code",
   "execution_count": 16,
   "id": "bca980e5",
   "metadata": {},
   "outputs": [
    {
     "data": {
      "text/plain": [
       "<AxesSubplot:xlabel='thal', ylabel='target'>"
      ]
     },
     "execution_count": 16,
     "metadata": {},
     "output_type": "execute_result"
    },
    {
     "data": {
      "image/png": "[encoded data removed]",
      "text/plain": [
       "<Figure size 432x288 with 1 Axes>"
      ]
     },
     "metadata": {
      "needs_background": "light"
     },
     "output_type": "display_data"
    }
   ],
   "source": [
    "sns.barplot(x=dataset[\"thal\"],y=y)"
   ]
  },
  {
   "cell_type": "markdown",
   "id": "9d9c0538",
   "metadata": {},
   "source": [
    "# Train test split"
   ]
  },
  {
   "cell_type": "code",
   "execution_count": 17,
   "id": "ec14801a",
   "metadata": {},
   "outputs": [],
   "source": [
    "from sklearn.model_selection import train_test_split\n",
    "\n",
    "predictors = dataset.drop(\"target\",axis=1)\n",
    "target = dataset[\"target\"]\n",
    "\n",
    "X_train,X_test,Y_train,Y_test = train_test_split(predictors,target,test_size=0.20,random_state=0)"
   ]
  },
  {
   "cell_type": "code",
   "execution_count": 18,
   "id": "46abdc6e",
   "metadata": {},
   "outputs": [
    {
     "data": {
      "text/plain": [
       "(242, 13)"
      ]
     },
     "execution_count": 18,
     "metadata": {},
     "output_type": "execute_result"
    }
   ],
   "source": [
    "X_train.shape\n"
   ]
  },
  {
   "cell_type": "code",
   "execution_count": 19,
   "id": "f2622fd7",
   "metadata": {},
   "outputs": [
    {
     "data": {
      "text/plain": [
       "(61, 13)"
      ]
     },
     "execution_count": 19,
     "metadata": {},
     "output_type": "execute_result"
    }
   ],
   "source": [
    "X_test.shape\n"
   ]
  },
  {
   "cell_type": "code",
   "execution_count": 20,
   "id": "de672a83",
   "metadata": {},
   "outputs": [
    {
     "data": {
      "text/plain": [
       "(242,)"
      ]
     },
     "execution_count": 20,
     "metadata": {},
     "output_type": "execute_result"
    }
   ],
   "source": [
    "Y_train.shape"
   ]
  },
  {
   "cell_type": "code",
   "execution_count": 21,
   "id": "2bc8c1ad",
   "metadata": {},
   "outputs": [
    {
     "data": {
      "text/plain": [
       "(61,)"
      ]
     },
     "execution_count": 21,
     "metadata": {},
     "output_type": "execute_result"
    }
   ],
   "source": [
    "Y_test.shape"
   ]
  },
  {
   "cell_type": "markdown",
   "id": "9863a470",
   "metadata": {},
   "source": [
    "# Naive Bayes"
   ]
  },
  {
   "cell_type": "code",
   "execution_count": 43,
   "id": "2e47b341",
   "metadata": {},
   "outputs": [],
   "source": [
    "from sklearn.naive_bayes import GaussianNB\n",
    "\n",
    "nb = GaussianNB()\n",
    "\n",
    "nb.fit(X_train,Y_train)\n",
    "\n",
    "Y_pred_nb = nb.predict(X_test)"
   ]
  },
  {
   "cell_type": "code",
   "execution_count": 24,
   "id": "aa050200",
   "metadata": {},
   "outputs": [
    {
     "data": {
      "text/plain": [
       "(61,)"
      ]
     },
     "execution_count": 24,
     "metadata": {},
     "output_type": "execute_result"
    }
   ],
   "source": [
    "Y_pred_nb.shape\n"
   ]
  },
  {
   "cell_type": "code",
   "execution_count": 25,
   "id": "4a4e2564",
   "metadata": {},
   "outputs": [
    {
     "name": "stdout",
     "output_type": "stream",
     "text": [
      "The accuracy score achieved using Naive Bayes is: 85.25 %\n"
     ]
    }
   ],
   "source": [
    "\n",
    "score_nb = round(accuracy_score(Y_pred_nb,Y_test)*100,2)\n",
    "\n",
    "print(\"The accuracy score achieved using Naive Bayes is: \"+str(score_nb)+\" %\")"
   ]
  },
  {
   "cell_type": "markdown",
   "id": "5855c4e8",
   "metadata": {},
   "source": [
    "# SVM"
   ]
  },
  {
   "cell_type": "code",
   "execution_count": 26,
   "id": "7f3c22cd",
   "metadata": {},
   "outputs": [],
   "source": [
    "from sklearn import svm\n",
    "\n",
    "sv = svm.SVC(kernel='linear')\n",
    "\n",
    "sv.fit(X_train, Y_train)\n",
    "\n",
    "Y_pred_svm = sv.predict(X_test)"
   ]
  },
  {
   "cell_type": "code",
   "execution_count": 27,
   "id": "7aa0bb56",
   "metadata": {},
   "outputs": [],
   "source": [
    "from sklearn.neighbors import KNeighborsClassifier\n",
    "\n",
    "knn = KNeighborsClassifier(n_neighbors=7)\n",
    "knn.fit(X_train,Y_train)\n",
    "Y_pred_knn=knn.predict(X_test)"
   ]
  },
  {
   "cell_type": "code",
   "execution_count": 28,
   "id": "6661c784",
   "metadata": {},
   "outputs": [
    {
     "name": "stdout",
     "output_type": "stream",
     "text": [
      "The accuracy score achieved using Linear SVM is: 81.97 %\n"
     ]
    }
   ],
   "source": [
    "score_svm = round(accuracy_score(Y_pred_svm,Y_test)*100,2)\n",
    "\n",
    "print(\"The accuracy score achieved using Linear SVM is: \"+str(score_svm)+\" %\")"
   ]
  },
  {
   "cell_type": "markdown",
   "id": "1285f135",
   "metadata": {},
   "source": [
    "# KNN"
   ]
  },
  {
   "cell_type": "code",
   "execution_count": 29,
   "id": "c1faed40",
   "metadata": {},
   "outputs": [],
   "source": [
    "from sklearn.neighbors import KNeighborsClassifier\n",
    "\n",
    "knn = KNeighborsClassifier(n_neighbors=7)\n",
    "knn.fit(X_train,Y_train)\n",
    "Y_pred_knn=knn.predict(X_test)"
   ]
  },
  {
   "cell_type": "code",
   "execution_count": 30,
   "id": "ac2114a3",
   "metadata": {},
   "outputs": [
    {
     "data": {
      "text/plain": [
       "(61,)"
      ]
     },
     "execution_count": 30,
     "metadata": {},
     "output_type": "execute_result"
    }
   ],
   "source": [
    "Y_pred_knn.shape"
   ]
  },
  {
   "cell_type": "code",
   "execution_count": 31,
   "id": "fe13db7d",
   "metadata": {},
   "outputs": [
    {
     "name": "stdout",
     "output_type": "stream",
     "text": [
      "The accuracy score achieved using KNN is: 67.21 %\n"
     ]
    }
   ],
   "source": [
    "score_knn = round(accuracy_score(Y_pred_knn,Y_test)*100,2)\n",
    "\n",
    "print(\"The accuracy score achieved using KNN is: \"+str(score_knn)+\" %\")\n"
   ]
  },
  {
   "cell_type": "markdown",
   "id": "0c18cd44",
   "metadata": {},
   "source": [
    "# Decision tree"
   ]
  },
  {
   "cell_type": "code",
   "execution_count": 32,
   "id": "02b44759",
   "metadata": {},
   "outputs": [],
   "source": [
    "from sklearn.tree import DecisionTreeClassifier\n",
    "\n",
    "max_accuracy = 0\n",
    "\n",
    "\n",
    "for x in range(200):\n",
    "    dt = DecisionTreeClassifier(random_state=x)\n",
    "    dt.fit(X_train,Y_train)\n",
    "    Y_pred_dt = dt.predict(X_test)\n",
    "    current_accuracy = round(accuracy_score(Y_pred_dt,Y_test)*100,2)\n",
    "    if(current_accuracy>max_accuracy):\n",
    "        max_accuracy = current_accuracy\n",
    "        best_x = x\n",
    "        \n",
    "#print(max_accuracy)\n",
    "#print(best_x)\n",
    "\n",
    "\n",
    "dt = DecisionTreeClassifier(random_state=best_x)\n",
    "dt.fit(X_train,Y_train)\n",
    "Y_pred_dt = dt.predict(X_test)\n"
   ]
  },
  {
   "cell_type": "code",
   "execution_count": 33,
   "id": "f609cdfe",
   "metadata": {},
   "outputs": [
    {
     "name": "stdout",
     "output_type": "stream",
     "text": [
      "The accuracy score achieved using Decision Tree is: 81.97 %\n"
     ]
    }
   ],
   "source": [
    "score_dt = round(accuracy_score(Y_pred_dt,Y_test)*100,2)\n",
    "\n",
    "print(\"The accuracy score achieved using Decision Tree is: \"+str(score_dt)+\" %\")"
   ]
  },
  {
   "cell_type": "markdown",
   "id": "ec8b6415",
   "metadata": {},
   "source": [
    "# Random forest"
   ]
  },
  {
   "cell_type": "code",
   "execution_count": 34,
   "id": "5adf02d6",
   "metadata": {},
   "outputs": [],
   "source": [
    "from sklearn.ensemble import RandomForestClassifier\n",
    "\n",
    "max_accuracy = 0\n",
    "\n",
    "for x in range(100):\n",
    "    rf = RandomForestClassifier(random_state=x)\n",
    "    rf.fit(X_train,Y_train)\n",
    "    Y_pred_rf = rf.predict(X_test)\n",
    "    current_accuracy = round(accuracy_score(Y_pred_rf,Y_test)*100,2)\n",
    "    if(current_accuracy>max_accuracy):\n",
    "        max_accuracy = current_accuracy\n",
    "        best_x = x\n",
    "\n",
    "rf = RandomForestClassifier(random_state=best_x)\n",
    "rf.fit(X_train,Y_train)\n",
    "Y_pred_rf = rf.predict(X_test)"
   ]
  },
  {
   "cell_type": "code",
   "execution_count": 44,
   "id": "7edf523a",
   "metadata": {},
   "outputs": [
    {
     "name": "stdout",
     "output_type": "stream",
     "text": [
      "The accuracy score achieved using Decision Tree is: 88.52 %\n"
     ]
    }
   ],
   "source": [
    "score_rf = round(accuracy_score(Y_pred_rf,Y_test)*100,2)\n",
    "\n",
    "print(\"The accuracy score achieved using Decision Tree is: \"+str(score_rf)+\" %\")"
   ]
  },
  {
   "cell_type": "code",
   "execution_count": 40,
   "id": "c65120f5",
   "metadata": {},
   "outputs": [
    {
     "name": "stdout",
     "output_type": "stream",
     "text": [
      "Epoch 1/300\n",
      "8/8 [==============================] - 2s 7ms/step - loss: 51.6413 - accuracy: 0.5413\n",
      "Epoch 2/300\n",
      "8/8 [==============================] - 0s 7ms/step - loss: 44.0171 - accuracy: 0.5413\n",
      "Epoch 3/300\n",
      "8/8 [==============================] - 0s 5ms/step - loss: 36.5956 - accuracy: 0.5413\n",
      "Epoch 4/300\n",
      "8/8 [==============================] - 0s 9ms/step - loss: 28.5771 - accuracy: 0.5413\n",
      "Epoch 5/300\n",
      "8/8 [==============================] - 0s 8ms/step - loss: 21.4425 - accuracy: 0.5455\n",
      "Epoch 6/300\n",
      "8/8 [==============================] - 0s 10ms/step - loss: 13.5889 - accuracy: 0.5207\n",
      "Epoch 7/300\n",
      "8/8 [==============================] - 0s 10ms/step - loss: 8.3597 - accuracy: 0.5124\n",
      "Epoch 8/300\n",
      "8/8 [==============================] - 0s 10ms/step - loss: 7.3360 - accuracy: 0.4050\n",
      "Epoch 9/300\n",
      "8/8 [==============================] - 0s 9ms/step - loss: 7.1191 - accuracy: 0.4091\n",
      "Epoch 10/300\n",
      "8/8 [==============================] - 0s 10ms/step - loss: 6.4183 - accuracy: 0.4174\n",
      "Epoch 11/300\n",
      "8/8 [==============================] - 0s 11ms/step - loss: 5.8138 - accuracy: 0.4504\n",
      "Epoch 12/300\n",
      "8/8 [==============================] - 0s 9ms/step - loss: 5.4303 - accuracy: 0.5207\n",
      "Epoch 13/300\n",
      "8/8 [==============================] - 0s 10ms/step - loss: 4.9610 - accuracy: 0.5207\n",
      "Epoch 14/300\n",
      "8/8 [==============================] - 0s 8ms/step - loss: 4.5741 - accuracy: 0.4793\n",
      "Epoch 15/300\n",
      "8/8 [==============================] - 0s 9ms/step - loss: 4.1931 - accuracy: 0.4835\n",
      "Epoch 16/300\n",
      "8/8 [==============================] - 0s 10ms/step - loss: 3.8346 - accuracy: 0.5083\n",
      "Epoch 17/300\n",
      "8/8 [==============================] - 0s 10ms/step - loss: 3.5280 - accuracy: 0.5207\n",
      "Epoch 18/300\n",
      "8/8 [==============================] - 0s 9ms/step - loss: 3.2548 - accuracy: 0.5248\n",
      "Epoch 19/300\n",
      "8/8 [==============================] - 0s 7ms/step - loss: 2.9809 - accuracy: 0.5413\n",
      "Epoch 20/300\n",
      "8/8 [==============================] - 0s 8ms/step - loss: 2.7635 - accuracy: 0.5455\n",
      "Epoch 21/300\n",
      "8/8 [==============================] - 0s 8ms/step - loss: 2.5743 - accuracy: 0.5372\n",
      "Epoch 22/300\n",
      "8/8 [==============================] - 0s 7ms/step - loss: 2.4058 - accuracy: 0.5537\n",
      "Epoch 23/300\n",
      "8/8 [==============================] - 0s 7ms/step - loss: 2.2065 - accuracy: 0.5620\n",
      "Epoch 24/300\n",
      "8/8 [==============================] - 0s 9ms/step - loss: 2.0497 - accuracy: 0.5661\n",
      "Epoch 25/300\n",
      "8/8 [==============================] - 0s 8ms/step - loss: 1.9215 - accuracy: 0.5702\n",
      "Epoch 26/300\n",
      "8/8 [==============================] - 0s 9ms/step - loss: 1.7873 - accuracy: 0.5868\n",
      "Epoch 27/300\n",
      "8/8 [==============================] - 0s 8ms/step - loss: 1.6868 - accuracy: 0.5868\n",
      "Epoch 28/300\n",
      "8/8 [==============================] - 0s 8ms/step - loss: 1.5945 - accuracy: 0.6033\n",
      "Epoch 29/300\n",
      "8/8 [==============================] - 0s 8ms/step - loss: 1.5127 - accuracy: 0.6157\n",
      "Epoch 30/300\n",
      "8/8 [==============================] - 0s 6ms/step - loss: 1.3971 - accuracy: 0.6364\n",
      "Epoch 31/300\n",
      "8/8 [==============================] - 0s 7ms/step - loss: 1.3149 - accuracy: 0.6281\n",
      "Epoch 32/300\n",
      "8/8 [==============================] - 0s 7ms/step - loss: 1.2435 - accuracy: 0.6446\n",
      "Epoch 33/300\n",
      "8/8 [==============================] - 0s 6ms/step - loss: 1.1826 - accuracy: 0.6570\n",
      "Epoch 34/300\n",
      "8/8 [==============================] - 0s 8ms/step - loss: 1.1271 - accuracy: 0.6529\n",
      "Epoch 35/300\n",
      "8/8 [==============================] - 0s 6ms/step - loss: 1.0818 - accuracy: 0.6529\n",
      "Epoch 36/300\n",
      "8/8 [==============================] - 0s 7ms/step - loss: 1.0287 - accuracy: 0.6736\n",
      "Epoch 37/300\n",
      "8/8 [==============================] - 0s 7ms/step - loss: 0.9796 - accuracy: 0.6818\n",
      "Epoch 38/300\n",
      "8/8 [==============================] - 0s 6ms/step - loss: 0.9397 - accuracy: 0.6818\n",
      "Epoch 39/300\n",
      "8/8 [==============================] - 0s 6ms/step - loss: 0.9027 - accuracy: 0.6942\n",
      "Epoch 40/300\n",
      "8/8 [==============================] - 0s 6ms/step - loss: 0.8709 - accuracy: 0.6860\n",
      "Epoch 41/300\n",
      "8/8 [==============================] - 0s 7ms/step - loss: 0.8421 - accuracy: 0.7149\n",
      "Epoch 42/300\n",
      "8/8 [==============================] - 0s 8ms/step - loss: 0.8077 - accuracy: 0.7149\n",
      "Epoch 43/300\n",
      "8/8 [==============================] - 0s 8ms/step - loss: 0.7930 - accuracy: 0.7190\n",
      "Epoch 44/300\n",
      "8/8 [==============================] - 0s 7ms/step - loss: 0.7650 - accuracy: 0.7231\n",
      "Epoch 45/300\n",
      "8/8 [==============================] - 0s 6ms/step - loss: 0.7397 - accuracy: 0.7397\n",
      "Epoch 46/300\n",
      "8/8 [==============================] - 0s 8ms/step - loss: 0.7181 - accuracy: 0.7479\n",
      "Epoch 47/300\n",
      "8/8 [==============================] - 0s 8ms/step - loss: 0.7125 - accuracy: 0.7314\n",
      "Epoch 48/300\n",
      "8/8 [==============================] - 0s 8ms/step - loss: 0.6968 - accuracy: 0.7190\n",
      "Epoch 49/300\n",
      "8/8 [==============================] - 0s 11ms/step - loss: 0.6747 - accuracy: 0.7314\n",
      "Epoch 50/300\n",
      "8/8 [==============================] - 0s 7ms/step - loss: 0.6528 - accuracy: 0.7355\n",
      "Epoch 51/300\n",
      "8/8 [==============================] - 0s 8ms/step - loss: 0.6456 - accuracy: 0.7314\n",
      "Epoch 52/300\n",
      "8/8 [==============================] - 0s 7ms/step - loss: 0.6337 - accuracy: 0.7438\n",
      "Epoch 53/300\n",
      "8/8 [==============================] - 0s 7ms/step - loss: 0.6146 - accuracy: 0.7355\n",
      "Epoch 54/300\n",
      "8/8 [==============================] - 0s 7ms/step - loss: 0.6009 - accuracy: 0.7397\n",
      "Epoch 55/300\n",
      "8/8 [==============================] - 0s 7ms/step - loss: 0.5893 - accuracy: 0.7355\n",
      "Epoch 56/300\n",
      "8/8 [==============================] - 0s 9ms/step - loss: 0.5853 - accuracy: 0.7397\n",
      "Epoch 57/300\n",
      "8/8 [==============================] - 0s 9ms/step - loss: 0.5734 - accuracy: 0.7438\n",
      "Epoch 58/300\n",
      "8/8 [==============================] - 0s 8ms/step - loss: 0.5657 - accuracy: 0.7438\n",
      "Epoch 59/300\n",
      "8/8 [==============================] - 0s 10ms/step - loss: 0.5506 - accuracy: 0.7521\n",
      "Epoch 60/300\n",
      "8/8 [==============================] - 0s 8ms/step - loss: 0.5420 - accuracy: 0.7521\n",
      "Epoch 61/300\n",
      "8/8 [==============================] - 0s 6ms/step - loss: 0.5340 - accuracy: 0.7727\n",
      "Epoch 62/300\n",
      "8/8 [==============================] - 0s 10ms/step - loss: 0.5346 - accuracy: 0.7562\n",
      "Epoch 63/300\n",
      "8/8 [==============================] - 0s 7ms/step - loss: 0.5711 - accuracy: 0.7355\n",
      "Epoch 64/300\n",
      "8/8 [==============================] - 0s 10ms/step - loss: 0.5552 - accuracy: 0.7397\n",
      "Epoch 65/300\n",
      "8/8 [==============================] - 0s 7ms/step - loss: 0.5321 - accuracy: 0.7397\n",
      "Epoch 66/300\n",
      "8/8 [==============================] - 0s 6ms/step - loss: 0.5226 - accuracy: 0.7438\n",
      "Epoch 67/300\n",
      "8/8 [==============================] - 0s 7ms/step - loss: 0.5038 - accuracy: 0.7479\n",
      "Epoch 68/300\n",
      "8/8 [==============================] - 0s 6ms/step - loss: 0.5018 - accuracy: 0.7645\n",
      "Epoch 69/300\n",
      "8/8 [==============================] - 0s 8ms/step - loss: 0.4901 - accuracy: 0.7686\n",
      "Epoch 70/300\n",
      "8/8 [==============================] - 0s 8ms/step - loss: 0.4918 - accuracy: 0.7521\n",
      "Epoch 71/300\n",
      "8/8 [==============================] - 0s 10ms/step - loss: 0.4860 - accuracy: 0.7603\n",
      "Epoch 72/300\n",
      "8/8 [==============================] - 0s 9ms/step - loss: 0.4774 - accuracy: 0.7645\n",
      "Epoch 73/300\n",
      "8/8 [==============================] - 0s 8ms/step - loss: 0.4853 - accuracy: 0.7603\n",
      "Epoch 74/300\n",
      "8/8 [==============================] - 0s 8ms/step - loss: 0.4831 - accuracy: 0.7645\n",
      "Epoch 75/300\n",
      "8/8 [==============================] - 0s 9ms/step - loss: 0.4674 - accuracy: 0.7769\n",
      "Epoch 76/300\n",
      "8/8 [==============================] - 0s 8ms/step - loss: 0.4833 - accuracy: 0.7603\n",
      "Epoch 77/300\n",
      "8/8 [==============================] - 0s 9ms/step - loss: 0.4773 - accuracy: 0.7645\n",
      "Epoch 78/300\n",
      "8/8 [==============================] - 0s 10ms/step - loss: 0.4769 - accuracy: 0.7851\n",
      "Epoch 79/300\n",
      "8/8 [==============================] - 0s 7ms/step - loss: 0.4544 - accuracy: 0.7893\n",
      "Epoch 80/300\n",
      "8/8 [==============================] - 0s 8ms/step - loss: 0.4672 - accuracy: 0.7521\n",
      "Epoch 81/300\n",
      "8/8 [==============================] - 0s 7ms/step - loss: 0.4473 - accuracy: 0.7769\n",
      "Epoch 82/300\n",
      "8/8 [==============================] - 0s 7ms/step - loss: 0.4462 - accuracy: 0.7645\n",
      "Epoch 83/300\n",
      "8/8 [==============================] - 0s 7ms/step - loss: 0.4398 - accuracy: 0.7810\n",
      "Epoch 84/300\n",
      "8/8 [==============================] - 0s 10ms/step - loss: 0.4506 - accuracy: 0.7934\n",
      "Epoch 85/300\n",
      "8/8 [==============================] - 0s 10ms/step - loss: 0.4443 - accuracy: 0.7727\n",
      "Epoch 86/300\n",
      "8/8 [==============================] - 0s 11ms/step - loss: 0.4319 - accuracy: 0.7851\n",
      "Epoch 87/300\n",
      "8/8 [==============================] - 0s 9ms/step - loss: 0.4385 - accuracy: 0.7934\n",
      "Epoch 88/300\n",
      "8/8 [==============================] - 0s 10ms/step - loss: 0.4310 - accuracy: 0.7934\n",
      "Epoch 89/300\n",
      "8/8 [==============================] - 0s 10ms/step - loss: 0.4314 - accuracy: 0.7893\n",
      "Epoch 90/300\n",
      "8/8 [==============================] - 0s 11ms/step - loss: 0.4385 - accuracy: 0.7769\n",
      "Epoch 91/300\n",
      "8/8 [==============================] - 0s 6ms/step - loss: 0.4369 - accuracy: 0.7975\n",
      "Epoch 92/300\n",
      "8/8 [==============================] - 0s 7ms/step - loss: 0.4382 - accuracy: 0.8099\n",
      "Epoch 93/300\n",
      "8/8 [==============================] - 0s 7ms/step - loss: 0.4221 - accuracy: 0.7934\n",
      "Epoch 94/300\n",
      "8/8 [==============================] - 0s 7ms/step - loss: 0.4250 - accuracy: 0.8058\n",
      "Epoch 95/300\n",
      "8/8 [==============================] - 0s 7ms/step - loss: 0.4253 - accuracy: 0.7975\n",
      "Epoch 96/300\n",
      "8/8 [==============================] - 0s 7ms/step - loss: 0.4152 - accuracy: 0.8099\n",
      "Epoch 97/300\n",
      "8/8 [==============================] - 0s 7ms/step - loss: 0.4258 - accuracy: 0.7975\n",
      "Epoch 98/300\n",
      "8/8 [==============================] - 0s 6ms/step - loss: 0.4421 - accuracy: 0.7975\n",
      "Epoch 99/300\n",
      "8/8 [==============================] - 0s 6ms/step - loss: 0.4417 - accuracy: 0.7851\n",
      "Epoch 100/300\n",
      "8/8 [==============================] - 0s 7ms/step - loss: 0.4097 - accuracy: 0.8182\n",
      "Epoch 101/300\n",
      "8/8 [==============================] - 0s 10ms/step - loss: 0.4260 - accuracy: 0.7893\n",
      "Epoch 102/300\n",
      "8/8 [==============================] - 0s 10ms/step - loss: 0.4152 - accuracy: 0.8182\n",
      "Epoch 103/300\n",
      "8/8 [==============================] - 0s 12ms/step - loss: 0.4087 - accuracy: 0.8099\n",
      "Epoch 104/300\n",
      "8/8 [==============================] - 0s 10ms/step - loss: 0.4140 - accuracy: 0.8182\n",
      "Epoch 105/300\n",
      "8/8 [==============================] - 0s 12ms/step - loss: 0.4290 - accuracy: 0.8099\n",
      "Epoch 106/300\n",
      "8/8 [==============================] - 0s 9ms/step - loss: 0.4229 - accuracy: 0.8182\n",
      "Epoch 107/300\n",
      "8/8 [==============================] - 0s 11ms/step - loss: 0.4145 - accuracy: 0.8099\n",
      "Epoch 108/300\n",
      "8/8 [==============================] - 0s 7ms/step - loss: 0.4060 - accuracy: 0.8264\n",
      "Epoch 109/300\n",
      "8/8 [==============================] - 0s 8ms/step - loss: 0.4078 - accuracy: 0.8017\n",
      "Epoch 110/300\n",
      "8/8 [==============================] - 0s 7ms/step - loss: 0.4044 - accuracy: 0.8140\n",
      "Epoch 111/300\n",
      "8/8 [==============================] - 0s 6ms/step - loss: 0.4040 - accuracy: 0.8306\n",
      "Epoch 112/300\n",
      "8/8 [==============================] - 0s 7ms/step - loss: 0.4059 - accuracy: 0.8140\n",
      "Epoch 113/300\n",
      "8/8 [==============================] - 0s 10ms/step - loss: 0.4080 - accuracy: 0.8017\n",
      "Epoch 114/300\n",
      "8/8 [==============================] - 0s 9ms/step - loss: 0.4020 - accuracy: 0.8388\n",
      "Epoch 115/300\n",
      "8/8 [==============================] - 0s 10ms/step - loss: 0.4038 - accuracy: 0.7934\n",
      "Epoch 116/300\n",
      "8/8 [==============================] - 0s 6ms/step - loss: 0.3965 - accuracy: 0.8264\n",
      "Epoch 117/300\n",
      "8/8 [==============================] - 0s 10ms/step - loss: 0.3983 - accuracy: 0.8223\n",
      "Epoch 118/300\n",
      "8/8 [==============================] - 0s 12ms/step - loss: 0.3947 - accuracy: 0.8347\n",
      "Epoch 119/300\n",
      "8/8 [==============================] - 0s 9ms/step - loss: 0.3979 - accuracy: 0.8223\n",
      "Epoch 120/300\n",
      "8/8 [==============================] - 0s 9ms/step - loss: 0.4168 - accuracy: 0.8058\n",
      "Epoch 121/300\n",
      "8/8 [==============================] - 0s 9ms/step - loss: 0.3886 - accuracy: 0.8182\n",
      "Epoch 122/300\n",
      "8/8 [==============================] - 0s 9ms/step - loss: 0.3932 - accuracy: 0.8347\n",
      "Epoch 123/300\n",
      "8/8 [==============================] - 0s 7ms/step - loss: 0.3891 - accuracy: 0.8223\n",
      "Epoch 124/300\n",
      "8/8 [==============================] - 0s 7ms/step - loss: 0.3996 - accuracy: 0.8140\n",
      "Epoch 125/300\n",
      "8/8 [==============================] - 0s 8ms/step - loss: 0.3916 - accuracy: 0.8512\n",
      "Epoch 126/300\n",
      "8/8 [==============================] - 0s 10ms/step - loss: 0.4006 - accuracy: 0.8306\n",
      "Epoch 127/300\n",
      "8/8 [==============================] - 0s 10ms/step - loss: 0.3987 - accuracy: 0.8182\n",
      "Epoch 128/300\n",
      "8/8 [==============================] - 0s 8ms/step - loss: 0.3977 - accuracy: 0.8430\n",
      "Epoch 129/300\n",
      "8/8 [==============================] - 0s 8ms/step - loss: 0.3952 - accuracy: 0.8223\n",
      "Epoch 130/300\n",
      "8/8 [==============================] - 0s 9ms/step - loss: 0.3906 - accuracy: 0.8388\n",
      "Epoch 131/300\n",
      "8/8 [==============================] - 0s 9ms/step - loss: 0.4111 - accuracy: 0.8099\n",
      "Epoch 132/300\n",
      "8/8 [==============================] - 0s 6ms/step - loss: 0.4148 - accuracy: 0.7975\n",
      "Epoch 133/300\n",
      "8/8 [==============================] - 0s 7ms/step - loss: 0.3846 - accuracy: 0.8264\n",
      "Epoch 134/300\n",
      "8/8 [==============================] - 0s 7ms/step - loss: 0.4057 - accuracy: 0.8182\n",
      "Epoch 135/300\n",
      "8/8 [==============================] - 0s 6ms/step - loss: 0.4186 - accuracy: 0.8182\n",
      "Epoch 136/300\n",
      "8/8 [==============================] - 0s 7ms/step - loss: 0.3905 - accuracy: 0.8595\n",
      "Epoch 137/300\n",
      "8/8 [==============================] - 0s 8ms/step - loss: 0.3962 - accuracy: 0.8388\n",
      "Epoch 138/300\n",
      "8/8 [==============================] - 0s 12ms/step - loss: 0.4432 - accuracy: 0.8099\n",
      "Epoch 139/300\n",
      "8/8 [==============================] - 0s 7ms/step - loss: 0.4328 - accuracy: 0.8264\n",
      "Epoch 140/300\n",
      "8/8 [==============================] - 0s 7ms/step - loss: 0.4047 - accuracy: 0.8058\n",
      "Epoch 141/300\n",
      "8/8 [==============================] - 0s 9ms/step - loss: 0.3911 - accuracy: 0.8182\n",
      "Epoch 142/300\n",
      "8/8 [==============================] - 0s 8ms/step - loss: 0.3983 - accuracy: 0.8140\n",
      "Epoch 143/300\n",
      "8/8 [==============================] - 0s 8ms/step - loss: 0.3807 - accuracy: 0.8223\n",
      "Epoch 144/300\n",
      "8/8 [==============================] - 0s 7ms/step - loss: 0.3843 - accuracy: 0.8306\n",
      "Epoch 145/300\n",
      "8/8 [==============================] - 0s 10ms/step - loss: 0.3852 - accuracy: 0.8471\n",
      "Epoch 146/300\n",
      "8/8 [==============================] - 0s 7ms/step - loss: 0.3911 - accuracy: 0.8347\n",
      "Epoch 147/300\n",
      "8/8 [==============================] - 0s 7ms/step - loss: 0.3836 - accuracy: 0.8347\n",
      "Epoch 148/300\n",
      "8/8 [==============================] - 0s 7ms/step - loss: 0.3818 - accuracy: 0.8347\n",
      "Epoch 149/300\n",
      "8/8 [==============================] - 0s 7ms/step - loss: 0.3801 - accuracy: 0.8264\n",
      "Epoch 150/300\n",
      "8/8 [==============================] - 0s 7ms/step - loss: 0.3849 - accuracy: 0.8471\n",
      "Epoch 151/300\n",
      "8/8 [==============================] - 0s 7ms/step - loss: 0.3943 - accuracy: 0.8182\n",
      "Epoch 152/300\n",
      "8/8 [==============================] - 0s 7ms/step - loss: 0.3864 - accuracy: 0.8388\n",
      "Epoch 153/300\n",
      "8/8 [==============================] - 0s 6ms/step - loss: 0.3875 - accuracy: 0.8223\n",
      "Epoch 154/300\n",
      "8/8 [==============================] - 0s 8ms/step - loss: 0.3812 - accuracy: 0.8471\n",
      "Epoch 155/300\n",
      "8/8 [==============================] - 0s 8ms/step - loss: 0.3915 - accuracy: 0.8388\n",
      "Epoch 156/300\n",
      "8/8 [==============================] - 0s 9ms/step - loss: 0.3809 - accuracy: 0.8347\n",
      "Epoch 157/300\n",
      "8/8 [==============================] - 0s 7ms/step - loss: 0.4046 - accuracy: 0.8223\n",
      "Epoch 158/300\n",
      "8/8 [==============================] - 0s 7ms/step - loss: 0.4193 - accuracy: 0.8058\n",
      "Epoch 159/300\n",
      "8/8 [==============================] - 0s 9ms/step - loss: 0.3844 - accuracy: 0.8347\n",
      "Epoch 160/300\n",
      "8/8 [==============================] - 0s 10ms/step - loss: 0.3850 - accuracy: 0.8306\n",
      "Epoch 161/300\n",
      "8/8 [==============================] - 0s 7ms/step - loss: 0.3907 - accuracy: 0.8223\n",
      "Epoch 162/300\n",
      "8/8 [==============================] - 0s 6ms/step - loss: 0.3891 - accuracy: 0.8223\n",
      "Epoch 163/300\n",
      "8/8 [==============================] - 0s 9ms/step - loss: 0.3722 - accuracy: 0.8595\n",
      "Epoch 164/300\n",
      "8/8 [==============================] - 0s 6ms/step - loss: 0.3771 - accuracy: 0.8388\n",
      "Epoch 165/300\n",
      "8/8 [==============================] - 0s 7ms/step - loss: 0.3944 - accuracy: 0.8306\n",
      "Epoch 166/300\n",
      "8/8 [==============================] - 0s 7ms/step - loss: 0.3681 - accuracy: 0.8512\n",
      "Epoch 167/300\n",
      "8/8 [==============================] - 0s 7ms/step - loss: 0.3873 - accuracy: 0.7975\n",
      "Epoch 168/300\n",
      "8/8 [==============================] - 0s 7ms/step - loss: 0.4077 - accuracy: 0.8223\n",
      "Epoch 169/300\n",
      "8/8 [==============================] - 0s 6ms/step - loss: 0.3918 - accuracy: 0.8306\n",
      "Epoch 170/300\n",
      "8/8 [==============================] - 0s 7ms/step - loss: 0.3781 - accuracy: 0.8140\n",
      "Epoch 171/300\n",
      "8/8 [==============================] - 0s 8ms/step - loss: 0.4065 - accuracy: 0.8099\n",
      "Epoch 172/300\n",
      "8/8 [==============================] - 0s 9ms/step - loss: 0.3681 - accuracy: 0.8471\n",
      "Epoch 173/300\n",
      "8/8 [==============================] - 0s 7ms/step - loss: 0.3790 - accuracy: 0.8347\n",
      "Epoch 174/300\n",
      "8/8 [==============================] - 0s 7ms/step - loss: 0.3759 - accuracy: 0.8430\n",
      "Epoch 175/300\n",
      "8/8 [==============================] - 0s 7ms/step - loss: 0.3736 - accuracy: 0.8388\n",
      "Epoch 176/300\n",
      "8/8 [==============================] - 0s 8ms/step - loss: 0.3777 - accuracy: 0.8306\n",
      "Epoch 177/300\n",
      "8/8 [==============================] - 0s 9ms/step - loss: 0.3710 - accuracy: 0.8471\n",
      "Epoch 178/300\n",
      "8/8 [==============================] - 0s 7ms/step - loss: 0.3693 - accuracy: 0.8512\n",
      "Epoch 179/300\n",
      "8/8 [==============================] - 0s 6ms/step - loss: 0.3701 - accuracy: 0.8306\n",
      "Epoch 180/300\n",
      "8/8 [==============================] - 0s 7ms/step - loss: 0.3823 - accuracy: 0.8471\n",
      "Epoch 181/300\n",
      "8/8 [==============================] - 0s 7ms/step - loss: 0.3722 - accuracy: 0.8471\n",
      "Epoch 182/300\n",
      "8/8 [==============================] - 0s 7ms/step - loss: 0.3729 - accuracy: 0.8430\n",
      "Epoch 183/300\n",
      "8/8 [==============================] - 0s 6ms/step - loss: 0.3735 - accuracy: 0.8512\n",
      "Epoch 184/300\n",
      "8/8 [==============================] - 0s 8ms/step - loss: 0.3719 - accuracy: 0.8430\n",
      "Epoch 185/300\n",
      "8/8 [==============================] - 0s 8ms/step - loss: 0.3678 - accuracy: 0.8430\n",
      "Epoch 186/300\n",
      "8/8 [==============================] - 0s 8ms/step - loss: 0.3710 - accuracy: 0.8430\n",
      "Epoch 187/300\n",
      "8/8 [==============================] - 0s 10ms/step - loss: 0.3744 - accuracy: 0.8182\n",
      "Epoch 188/300\n",
      "8/8 [==============================] - 0s 11ms/step - loss: 0.3719 - accuracy: 0.8347\n",
      "Epoch 189/300\n",
      "8/8 [==============================] - 0s 9ms/step - loss: 0.3717 - accuracy: 0.8554\n",
      "Epoch 190/300\n",
      "8/8 [==============================] - 0s 8ms/step - loss: 0.3663 - accuracy: 0.8388\n",
      "Epoch 191/300\n",
      "8/8 [==============================] - 0s 6ms/step - loss: 0.3793 - accuracy: 0.8430\n",
      "Epoch 192/300\n",
      "8/8 [==============================] - 0s 8ms/step - loss: 0.3669 - accuracy: 0.8512\n",
      "Epoch 193/300\n",
      "8/8 [==============================] - 0s 8ms/step - loss: 0.3791 - accuracy: 0.8347\n",
      "Epoch 194/300\n",
      "8/8 [==============================] - 0s 8ms/step - loss: 0.3683 - accuracy: 0.8512\n",
      "Epoch 195/300\n",
      "8/8 [==============================] - 0s 12ms/step - loss: 0.3722 - accuracy: 0.8430\n",
      "Epoch 196/300\n",
      "8/8 [==============================] - 0s 8ms/step - loss: 0.4048 - accuracy: 0.8182\n",
      "Epoch 197/300\n",
      "8/8 [==============================] - 0s 7ms/step - loss: 0.3768 - accuracy: 0.8388\n",
      "Epoch 198/300\n",
      "8/8 [==============================] - 0s 7ms/step - loss: 0.3756 - accuracy: 0.8388\n",
      "Epoch 199/300\n",
      "8/8 [==============================] - 0s 7ms/step - loss: 0.3769 - accuracy: 0.8347\n",
      "Epoch 200/300\n",
      "8/8 [==============================] - 0s 6ms/step - loss: 0.3956 - accuracy: 0.8388\n",
      "Epoch 201/300\n",
      "8/8 [==============================] - 0s 7ms/step - loss: 0.3857 - accuracy: 0.8182\n",
      "Epoch 202/300\n",
      "8/8 [==============================] - 0s 9ms/step - loss: 0.3775 - accuracy: 0.8347\n",
      "Epoch 203/300\n",
      "8/8 [==============================] - 0s 7ms/step - loss: 0.3674 - accuracy: 0.8471\n",
      "Epoch 204/300\n",
      "8/8 [==============================] - 0s 8ms/step - loss: 0.3693 - accuracy: 0.8306\n",
      "Epoch 205/300\n",
      "8/8 [==============================] - 0s 7ms/step - loss: 0.3726 - accuracy: 0.8347\n",
      "Epoch 206/300\n",
      "8/8 [==============================] - 0s 6ms/step - loss: 0.3782 - accuracy: 0.8182\n",
      "Epoch 207/300\n",
      "8/8 [==============================] - 0s 6ms/step - loss: 0.4070 - accuracy: 0.8140\n",
      "Epoch 208/300\n",
      "8/8 [==============================] - 0s 7ms/step - loss: 0.3722 - accuracy: 0.8182\n",
      "Epoch 209/300\n",
      "8/8 [==============================] - 0s 7ms/step - loss: 0.3788 - accuracy: 0.8430\n",
      "Epoch 210/300\n",
      "8/8 [==============================] - 0s 7ms/step - loss: 0.3646 - accuracy: 0.8430\n",
      "Epoch 211/300\n",
      "8/8 [==============================] - 0s 6ms/step - loss: 0.3689 - accuracy: 0.8430\n",
      "Epoch 212/300\n",
      "8/8 [==============================] - 0s 6ms/step - loss: 0.3638 - accuracy: 0.8430\n",
      "Epoch 213/300\n",
      "8/8 [==============================] - 0s 4ms/step - loss: 0.3630 - accuracy: 0.8430\n",
      "Epoch 214/300\n",
      "8/8 [==============================] - 0s 6ms/step - loss: 0.3668 - accuracy: 0.8306\n",
      "Epoch 215/300\n",
      "8/8 [==============================] - 0s 7ms/step - loss: 0.3617 - accuracy: 0.8430\n",
      "Epoch 216/300\n",
      "8/8 [==============================] - 0s 6ms/step - loss: 0.3647 - accuracy: 0.8430\n",
      "Epoch 217/300\n",
      "8/8 [==============================] - 0s 7ms/step - loss: 0.3723 - accuracy: 0.8388\n",
      "Epoch 218/300\n",
      "8/8 [==============================] - 0s 7ms/step - loss: 0.3961 - accuracy: 0.8099\n",
      "Epoch 219/300\n",
      "8/8 [==============================] - 0s 8ms/step - loss: 0.3876 - accuracy: 0.8388\n",
      "Epoch 220/300\n",
      "8/8 [==============================] - 0s 7ms/step - loss: 0.3799 - accuracy: 0.8306\n",
      "Epoch 221/300\n",
      "8/8 [==============================] - 0s 7ms/step - loss: 0.3662 - accuracy: 0.8388\n",
      "Epoch 222/300\n",
      "8/8 [==============================] - 0s 7ms/step - loss: 0.3694 - accuracy: 0.8388\n",
      "Epoch 223/300\n",
      "8/8 [==============================] - 0s 8ms/step - loss: 0.3696 - accuracy: 0.8471\n",
      "Epoch 224/300\n",
      "8/8 [==============================] - 0s 7ms/step - loss: 0.3823 - accuracy: 0.8058\n",
      "Epoch 225/300\n",
      "8/8 [==============================] - 0s 8ms/step - loss: 0.3895 - accuracy: 0.8388\n",
      "Epoch 226/300\n",
      "8/8 [==============================] - 0s 5ms/step - loss: 0.3714 - accuracy: 0.8430\n",
      "Epoch 227/300\n",
      "8/8 [==============================] - 0s 7ms/step - loss: 0.3695 - accuracy: 0.8347\n",
      "Epoch 228/300\n",
      "8/8 [==============================] - 0s 6ms/step - loss: 0.3811 - accuracy: 0.8099\n",
      "Epoch 229/300\n",
      "8/8 [==============================] - 0s 7ms/step - loss: 0.3880 - accuracy: 0.8264\n",
      "Epoch 230/300\n",
      "8/8 [==============================] - 0s 9ms/step - loss: 0.3667 - accuracy: 0.8512\n",
      "Epoch 231/300\n",
      "8/8 [==============================] - 0s 7ms/step - loss: 0.3734 - accuracy: 0.8264\n",
      "Epoch 232/300\n",
      "8/8 [==============================] - 0s 7ms/step - loss: 0.3949 - accuracy: 0.8182\n",
      "Epoch 233/300\n",
      "8/8 [==============================] - 0s 6ms/step - loss: 0.3687 - accuracy: 0.8347\n",
      "Epoch 234/300\n",
      "8/8 [==============================] - 0s 7ms/step - loss: 0.3956 - accuracy: 0.8017\n",
      "Epoch 235/300\n",
      "8/8 [==============================] - 0s 6ms/step - loss: 0.3579 - accuracy: 0.8471\n",
      "Epoch 236/300\n",
      "8/8 [==============================] - 0s 7ms/step - loss: 0.3567 - accuracy: 0.8512\n",
      "Epoch 237/300\n",
      "8/8 [==============================] - 0s 9ms/step - loss: 0.3644 - accuracy: 0.8306\n",
      "Epoch 238/300\n",
      "8/8 [==============================] - 0s 8ms/step - loss: 0.3924 - accuracy: 0.8058\n",
      "Epoch 239/300\n",
      "8/8 [==============================] - 0s 9ms/step - loss: 0.3703 - accuracy: 0.8347\n",
      "Epoch 240/300\n",
      "8/8 [==============================] - 0s 10ms/step - loss: 0.3901 - accuracy: 0.8347\n",
      "Epoch 241/300\n",
      "8/8 [==============================] - 0s 8ms/step - loss: 0.4281 - accuracy: 0.8017\n",
      "Epoch 242/300\n",
      "8/8 [==============================] - 0s 9ms/step - loss: 0.3795 - accuracy: 0.8347\n",
      "Epoch 243/300\n",
      "8/8 [==============================] - 0s 9ms/step - loss: 0.3619 - accuracy: 0.8512\n",
      "Epoch 244/300\n",
      "8/8 [==============================] - 0s 8ms/step - loss: 0.3618 - accuracy: 0.8471\n",
      "Epoch 245/300\n",
      "8/8 [==============================] - 0s 8ms/step - loss: 0.3619 - accuracy: 0.8430\n",
      "Epoch 246/300\n",
      "8/8 [==============================] - 0s 8ms/step - loss: 0.3590 - accuracy: 0.8595\n",
      "Epoch 247/300\n",
      "8/8 [==============================] - 0s 6ms/step - loss: 0.3774 - accuracy: 0.8347\n",
      "Epoch 248/300\n",
      "8/8 [==============================] - 0s 6ms/step - loss: 0.3763 - accuracy: 0.8430\n",
      "Epoch 249/300\n",
      "8/8 [==============================] - 0s 6ms/step - loss: 0.3631 - accuracy: 0.8471\n",
      "Epoch 250/300\n",
      "8/8 [==============================] - 0s 7ms/step - loss: 0.3688 - accuracy: 0.8306\n",
      "Epoch 251/300\n",
      "8/8 [==============================] - 0s 8ms/step - loss: 0.3621 - accuracy: 0.8512\n",
      "Epoch 252/300\n",
      "8/8 [==============================] - 0s 8ms/step - loss: 0.3607 - accuracy: 0.8430\n",
      "Epoch 253/300\n",
      "8/8 [==============================] - 0s 8ms/step - loss: 0.3603 - accuracy: 0.8636\n",
      "Epoch 254/300\n",
      "8/8 [==============================] - 0s 7ms/step - loss: 0.3694 - accuracy: 0.8347\n",
      "Epoch 255/300\n",
      "8/8 [==============================] - 0s 7ms/step - loss: 0.3671 - accuracy: 0.8388\n",
      "Epoch 256/300\n",
      "8/8 [==============================] - 0s 7ms/step - loss: 0.3704 - accuracy: 0.8264\n",
      "Epoch 257/300\n",
      "8/8 [==============================] - 0s 7ms/step - loss: 0.3795 - accuracy: 0.8430\n",
      "Epoch 258/300\n",
      "8/8 [==============================] - 0s 8ms/step - loss: 0.3649 - accuracy: 0.8554\n",
      "Epoch 259/300\n",
      "8/8 [==============================] - 0s 7ms/step - loss: 0.3801 - accuracy: 0.8264\n",
      "Epoch 260/300\n",
      "8/8 [==============================] - 0s 7ms/step - loss: 0.3739 - accuracy: 0.8430\n",
      "Epoch 261/300\n",
      "8/8 [==============================] - 0s 10ms/step - loss: 0.3685 - accuracy: 0.8388\n",
      "Epoch 262/300\n",
      "8/8 [==============================] - 0s 8ms/step - loss: 0.3631 - accuracy: 0.8347\n",
      "Epoch 263/300\n",
      "8/8 [==============================] - 0s 7ms/step - loss: 0.3665 - accuracy: 0.8388\n",
      "Epoch 264/300\n",
      "8/8 [==============================] - 0s 7ms/step - loss: 0.3623 - accuracy: 0.8430\n",
      "Epoch 265/300\n",
      "8/8 [==============================] - 0s 8ms/step - loss: 0.3657 - accuracy: 0.8595\n",
      "Epoch 266/300\n",
      "8/8 [==============================] - 0s 7ms/step - loss: 0.3607 - accuracy: 0.8471\n",
      "Epoch 267/300\n",
      "8/8 [==============================] - 0s 7ms/step - loss: 0.3583 - accuracy: 0.8554\n",
      "Epoch 268/300\n",
      "8/8 [==============================] - 0s 7ms/step - loss: 0.3537 - accuracy: 0.8471\n",
      "Epoch 269/300\n",
      "8/8 [==============================] - 0s 7ms/step - loss: 0.4103 - accuracy: 0.7893\n",
      "Epoch 270/300\n",
      "8/8 [==============================] - 0s 7ms/step - loss: 0.3718 - accuracy: 0.8306\n",
      "Epoch 271/300\n",
      "8/8 [==============================] - 0s 7ms/step - loss: 0.3701 - accuracy: 0.8430\n",
      "Epoch 272/300\n",
      "8/8 [==============================] - 0s 7ms/step - loss: 0.3758 - accuracy: 0.8306\n",
      "Epoch 273/300\n",
      "8/8 [==============================] - 0s 8ms/step - loss: 0.3932 - accuracy: 0.8223\n",
      "Epoch 274/300\n",
      "8/8 [==============================] - 0s 6ms/step - loss: 0.3769 - accuracy: 0.8430\n",
      "Epoch 275/300\n",
      "8/8 [==============================] - 0s 7ms/step - loss: 0.3668 - accuracy: 0.8471\n",
      "Epoch 276/300\n",
      "8/8 [==============================] - 0s 7ms/step - loss: 0.3647 - accuracy: 0.8430\n",
      "Epoch 277/300\n",
      "8/8 [==============================] - 0s 9ms/step - loss: 0.3586 - accuracy: 0.8471\n",
      "Epoch 278/300\n",
      "8/8 [==============================] - 0s 8ms/step - loss: 0.3552 - accuracy: 0.8430\n",
      "Epoch 279/300\n",
      "8/8 [==============================] - 0s 7ms/step - loss: 0.3719 - accuracy: 0.8388\n",
      "Epoch 280/300\n",
      "8/8 [==============================] - 0s 7ms/step - loss: 0.3851 - accuracy: 0.8306\n",
      "Epoch 281/300\n",
      "8/8 [==============================] - 0s 7ms/step - loss: 0.3914 - accuracy: 0.8140\n",
      "Epoch 282/300\n",
      "8/8 [==============================] - 0s 8ms/step - loss: 0.3747 - accuracy: 0.8306\n",
      "Epoch 283/300\n",
      "8/8 [==============================] - 0s 9ms/step - loss: 0.3656 - accuracy: 0.8471\n",
      "Epoch 284/300\n",
      "8/8 [==============================] - 0s 7ms/step - loss: 0.3688 - accuracy: 0.8512\n",
      "Epoch 285/300\n",
      "8/8 [==============================] - 0s 7ms/step - loss: 0.3721 - accuracy: 0.8430\n",
      "Epoch 286/300\n",
      "8/8 [==============================] - 0s 7ms/step - loss: 0.3601 - accuracy: 0.8471\n",
      "Epoch 287/300\n",
      "8/8 [==============================] - 0s 6ms/step - loss: 0.3895 - accuracy: 0.8306\n",
      "Epoch 288/300\n",
      "8/8 [==============================] - 0s 6ms/step - loss: 0.3740 - accuracy: 0.8388\n",
      "Epoch 289/300\n",
      "8/8 [==============================] - 0s 7ms/step - loss: 0.3590 - accuracy: 0.8471\n",
      "Epoch 290/300\n",
      "8/8 [==============================] - 0s 6ms/step - loss: 0.3593 - accuracy: 0.8430\n",
      "Epoch 291/300\n",
      "8/8 [==============================] - 0s 5ms/step - loss: 0.3679 - accuracy: 0.8471\n",
      "Epoch 292/300\n",
      "8/8 [==============================] - 0s 6ms/step - loss: 0.4021 - accuracy: 0.8182\n",
      "Epoch 293/300\n",
      "8/8 [==============================] - 0s 7ms/step - loss: 0.4063 - accuracy: 0.8182\n",
      "Epoch 294/300\n",
      "8/8 [==============================] - 0s 7ms/step - loss: 0.3729 - accuracy: 0.8264\n",
      "Epoch 295/300\n",
      "8/8 [==============================] - 0s 8ms/step - loss: 0.3655 - accuracy: 0.8388\n",
      "Epoch 296/300\n",
      "8/8 [==============================] - 0s 6ms/step - loss: 0.3623 - accuracy: 0.8512\n",
      "Epoch 297/300\n",
      "8/8 [==============================] - 0s 7ms/step - loss: 0.3774 - accuracy: 0.8264\n",
      "Epoch 298/300\n",
      "8/8 [==============================] - 0s 5ms/step - loss: 0.3698 - accuracy: 0.8388\n",
      "Epoch 299/300\n",
      "8/8 [==============================] - 0s 6ms/step - loss: 0.3646 - accuracy: 0.8388\n",
      "Epoch 300/300\n",
      "8/8 [==============================] - 0s 7ms/step - loss: 0.3600 - accuracy: 0.8430\n"
     ]
    },
    {
     "data": {
      "text/plain": [
       "<keras.src.callbacks.History at 0x1cfa8329040>"
      ]
     },
     "execution_count": 40,
     "metadata": {},
     "output_type": "execute_result"
    }
   ],
   "source": [
    "from keras.models import Sequential\n",
    "from keras.layers import Dense\n",
    "\n",
    "import warnings\n",
    "warnings.filterwarnings('ignore')\n",
    "# https://stats.stackexchange.com/a/136542 helped a lot in avoiding overfitting\n",
    "\n",
    "model = Sequential()\n",
    "model.add(Dense(11,activation='relu',input_dim=13))\n",
    "model.add(Dense(1,activation='sigmoid'))\n",
    "\n",
    "model.compile(loss='binary_crossentropy',optimizer='adam',metrics=['accuracy'])\n",
    "model.fit(X_train,Y_train,epochs=300)\n"
   ]
  },
  {
   "cell_type": "code",
   "execution_count": null,
   "id": "0bdadacd",
   "metadata": {},
   "outputs": [],
   "source": []
  }
 ],
 "metadata": {
  "kernelspec": {
   "display_name": "Python 3 (ipykernel)",
   "language": "python",
   "name": "python3"
  },
  "language_info": {
   "codemirror_mode": {
    "name": "ipython",
    "version": 3
   },
   "file_extension": ".py",
   "mimetype": "text/x-python",
   "name": "python",
   "nbconvert_exporter": "python",
   "pygments_lexer": "ipython3",
   "version": "3.9.12"
  }
 },
 "nbformat": 4,
 "nbformat_minor": 5
}
